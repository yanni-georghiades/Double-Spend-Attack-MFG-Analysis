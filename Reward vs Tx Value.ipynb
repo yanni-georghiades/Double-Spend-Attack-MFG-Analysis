{
 "cells": [
  {
   "cell_type": "code",
   "execution_count": 1,
   "metadata": {},
   "outputs": [],
   "source": [
    "from environment_model import R\n",
    "from matplotlib import pyplot as plt\n",
    "import numpy as np"
   ]
  },
  {
   "cell_type": "code",
   "execution_count": 12,
   "metadata": {},
   "outputs": [],
   "source": [
    "ts = np.arange(1, 400)\n",
    "rewards = []\n",
    "\n",
    "alpha_bar = 1.\n",
    "beta = .4\n",
    "k = 6\n",
    "block_reward = 15\n",
    "num_agents = 10\n",
    "mining_cost = 1\n",
    "\n",
    "for t in ts:\n",
    "    rewards.append(R(.5, t, alpha_bar, beta, k, mining_cost, num_agents, block_reward))\n",
    "    "
   ]
  },
  {
   "cell_type": "code",
   "execution_count": 35,
   "metadata": {},
   "outputs": [
    {
     "data": {
      "text/plain": [
       "[<matplotlib.lines.Line2D at 0x7fdc748777f0>]"
      ]
     },
     "execution_count": 35,
     "metadata": {},
     "output_type": "execute_result"
    },
    {
     "data": {
      "image/png": "[encoded data removed]",
      "text/plain": [
       "<Figure size 432x288 with 1 Axes>"
      ]
     },
     "metadata": {},
     "output_type": "display_data"
    }
   ],
   "source": [
    "ax = plt.gca()\n",
    "ax.set_xticks([])\n",
    "ax.set_yticks([])\n",
    "# ax.get_yaxis().set_visible(False)\n",
    "# ax.get_xaxis().set_visible(False)\n",
    "\n",
    "plt.title('Mining Reward Vs Transaction Value')\n",
    "plt.xlabel('Transaction Value')\n",
    "plt.ylabel('Reward')\n",
    "\n",
    "plt.scatter(93 ,0.22672737499151008, color='red', marker='o', s=50, zorder=3)\n",
    "plt.annotate('T*', xy=(95 ,0.22672737499151008), xytext=(150, 0.2),\n",
    "             fontsize=12, \n",
    "             arrowprops=dict(arrowstyle='->',lw=2), zorder=4)\n",
    "\n",
    "plt.plot(ts, rewards)"
   ]
  },
  {
   "cell_type": "code",
   "execution_count": 24,
   "metadata": {},
   "outputs": [
    {
     "data": {
      "text/plain": [
       "90"
      ]
     },
     "execution_count": 24,
     "metadata": {},
     "output_type": "execute_result"
    }
   ],
   "source": [
    "rewards.index(0.22672737499151008)"
   ]
  },
  {
   "cell_type": "code",
   "execution_count": null,
   "metadata": {},
   "outputs": [],
   "source": []
  }
 ],
 "metadata": {
  "kernelspec": {
   "display_name": "Python 3",
   "language": "python",
   "name": "python3"
  },
  "language_info": {
   "codemirror_mode": {
    "name": "ipython",
    "version": 3
   },
   "file_extension": ".py",
   "mimetype": "text/x-python",
   "name": "python",
   "nbconvert_exporter": "python",
   "pygments_lexer": "ipython3",
   "version": "3.6.5"
  }
 },
 "nbformat": 4,
 "nbformat_minor": 2
}
