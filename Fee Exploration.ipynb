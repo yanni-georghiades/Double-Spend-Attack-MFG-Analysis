{
 "cells": [
  {
   "cell_type": "code",
   "execution_count": 1,
   "metadata": {},
   "outputs": [],
   "source": [
    "from adversary_model import adv_cost, adv_prob, adv_reward, A\n",
    "from matplotlib import pyplot as plt\n",
    "import numpy as np\n"
   ]
  },
  {
   "cell_type": "code",
   "execution_count": 34,
   "metadata": {},
   "outputs": [],
   "source": [
    "def a_hat(T_hat, beta, k, block_reward, mining_cost):\n",
    "    \n",
    "    ab = 0.\n",
    "    while A(T_hat, ab, beta, k, block_reward, num_agents, mining_cost) == 1:\n",
    "        ab += 0.01\n",
    "    return num_agents * ab\n",
    "\n",
    "    \n",
    "alpha_bar = 1.\n",
    "beta = .4\n",
    "k = 6\n",
    "block_reward = 10\n",
    "num_agents = 10\n",
    "mining_cost = 1"
   ]
  },
  {
   "cell_type": "code",
   "execution_count": 35,
   "metadata": {},
   "outputs": [],
   "source": [
    "# How does A_hat vary with T_hat? \n",
    "# i.e., how does hash power requirement vary with transaction value demanded? \n",
    "\n",
    "t_hats = np.arange(1, 1000)\n",
    "a_hats = []\n",
    "\n",
    "for th in t_hats:\n",
    "    a_hats.append(a_hat(th, beta, k, block_reward, mining_cost))"
   ]
  },
  {
   "cell_type": "code",
   "execution_count": 36,
   "metadata": {},
   "outputs": [
    {
     "data": {
      "text/plain": [
       "[<matplotlib.lines.Line2D at 0x7f8d667979b0>]"
      ]
     },
     "execution_count": 36,
     "metadata": {},
     "output_type": "execute_result"
    },
    {
     "data": {
      "image/png": "[encoded data removed]",
      "text/plain": [
       "<Figure size 432x288 with 1 Axes>"
      ]
     },
     "metadata": {
      "needs_background": "light"
     },
     "output_type": "display_data"
    }
   ],
   "source": [
    "plt.plot(t_hats, a_hats)"
   ]
  },
  {
   "cell_type": "code",
   "execution_count": 2,
   "metadata": {},
   "outputs": [
    {
     "name": "stdout",
     "output_type": "stream",
     "text": [
      "hi\n"
     ]
    }
   ],
   "source": []
  },
  {
   "cell_type": "code",
   "execution_count": null,
   "metadata": {},
   "outputs": [],
   "source": []
  }
 ],
 "metadata": {
  "kernelspec": {
   "display_name": "Python 3",
   "language": "python",
   "name": "python3"
  },
  "language_info": {
   "codemirror_mode": {
    "name": "ipython",
    "version": 3
   },
   "file_extension": ".py",
   "mimetype": "text/x-python",
   "name": "python",
   "nbconvert_exporter": "python",
   "pygments_lexer": "ipython3",
   "version": "3.6.5"
  }
 },
 "nbformat": 4,
 "nbformat_minor": 2
}
